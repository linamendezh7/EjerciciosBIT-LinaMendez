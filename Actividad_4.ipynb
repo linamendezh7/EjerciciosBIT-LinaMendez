{
  "nbformat": 4,
  "nbformat_minor": 0,
  "metadata": {
    "colab": {
      "provenance": [],
      "authorship_tag": "ABX9TyPj5qXBUZ4+8WkxkM2mTp6n",
      "include_colab_link": true
    },
    "kernelspec": {
      "name": "python3",
      "display_name": "Python 3"
    },
    "language_info": {
      "name": "python"
    }
  },
  "cells": [
    {
      "cell_type": "markdown",
      "metadata": {
        "id": "view-in-github",
        "colab_type": "text"
      },
      "source": [
        "<a href=\"https://colab.research.google.com/github/linamendezh7/EjerciciosBIT-LinaMendez/blob/main/Actividad_4.ipynb\" target=\"_parent\"><img src=\"https://colab.research.google.com/assets/colab-badge.svg\" alt=\"Open In Colab\"/></a>"
      ]
    },
    {
      "cell_type": "markdown",
      "source": [
        "ACTIVIDAD 1"
      ],
      "metadata": {
        "id": "BSqEEl4NRjGs"
      }
    },
    {
      "cell_type": "markdown",
      "source": [
        "Parte 1: Bucle for con edades\n",
        "Crea una lista de edades: [12, 17, 8, 15, 22, 9, 30, 25].\n",
        "\n",
        "Usa un bucle for para iterar sobre cada edad:\n",
        "\n",
        "Si la edad es 25, imprime \"¡Encontramos al estudiante de 25 años! Deteniendo el análisis.\" y termina el bucle con break.\n",
        "\n",
        "Si la edad es menor a 10, omite esa iteración con continue.\n",
        "\n",
        "Si la edad es 18 o mayor, imprime \"Adulto: [edad] años\".\n",
        "\n",
        "En cualquier otro caso, imprime \"Menor: [edad] años\".\n"
      ],
      "metadata": {
        "id": "xcCYriuTRRRm"
      }
    },
    {
      "cell_type": "code",
      "source": [
        "Edades = [12, 17, 8, 15, 22, 9, 30, 25]\n",
        "for edad in Edades:\n",
        "  if edad == 25:\n",
        "     print(\"¡Encontramos al estudiante de 25 años! Deteniendo el análisis.\")\n",
        "     break\n",
        "  elif edad <10:\n",
        "      continue\n",
        "  elif edad >= 18:\n",
        "      print([f\"Adulto:{edad} años\"])\n",
        "  else:\n",
        "    print([f\"Menor:{edad} años\"])"
      ],
      "metadata": {
        "colab": {
          "base_uri": "https://localhost:8080/"
        },
        "id": "7P8KXas3RWb4",
        "outputId": "5e4388d5-83ff-44f0-f402-6508d54f604c"
      },
      "execution_count": 2,
      "outputs": [
        {
          "output_type": "stream",
          "name": "stdout",
          "text": [
            "['Menor:12 años']\n",
            "['Menor:17 años']\n",
            "['Menor:15 años']\n",
            "['Adulto:22 años']\n",
            "['Adulto:30 años']\n",
            "¡Encontramos al estudiante de 25 años! Deteniendo el análisis.\n"
          ]
        }
      ]
    },
    {
      "cell_type": "markdown",
      "source": [
        "Parte 2: Bucle while con nombres Crea una lista de nombres: [\"Juan\", \"Pedro\", \"Jorge\", \"María\",\"Ana\"].\n",
        "\n",
        "Usa un bucle while para iterar sobre los nombres:\n",
        "\n",
        "Si el nombre es \"Ana\", imprime \"¡Ana está en la lista!\" y termina el bucle con break.\n",
        "\n",
        "Si el nombre empieza con \"J\", omite ese nombre con continue.\n",
        "\n",
        "En cualquier otro caso, imprime el nombre."
      ],
      "metadata": {
        "id": "okB4VaJpRZet"
      }
    },
    {
      "cell_type": "code",
      "source": [
        "Nombres =  [\"Juan\",\"Pedro\",\"Jorge\",\"María\",\"Ana\"]\n",
        "for nombre in Nombres:\n",
        "  primer= nombre[0]\n",
        "  if nombre == (\"Ana\"):\n",
        "    print(\"¡Ana está en la lista!\")\n",
        "    break\n",
        "  elif primer == \"J\":\n",
        "   continue\n",
        "  else:\n",
        "    print(f\"nombre {nombre}\")"
      ],
      "metadata": {
        "colab": {
          "base_uri": "https://localhost:8080/"
        },
        "id": "zaWhB5puRcly",
        "outputId": "8d5fdf2d-b92f-4e77-b892-1bef174ee9b0"
      },
      "execution_count": 1,
      "outputs": [
        {
          "output_type": "stream",
          "name": "stdout",
          "text": [
            "nombre Pedro\n",
            "nombre María\n",
            "¡Ana está en la lista!\n"
          ]
        }
      ]
    }
  ]
}